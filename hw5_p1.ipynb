{
  "nbformat": 4,
  "nbformat_minor": 0,
  "metadata": {
    "colab": {
      "provenance": [],
      "authorship_tag": "ABX9TyMt/1mVJC0H+c4aLCCxjFl9",
      "include_colab_link": true
    },
    "kernelspec": {
      "name": "python3",
      "display_name": "Python 3"
    },
    "language_info": {
      "name": "python"
    }
  },
  "cells": [
    {
      "cell_type": "markdown",
      "metadata": {
        "id": "view-in-github",
        "colab_type": "text"
      },
      "source": [
        "<a href=\"https://colab.research.google.com/github/Anidafio/4105_hw5/blob/main/hw5_p1.ipynb\" target=\"_parent\"><img src=\"https://colab.research.google.com/assets/colab-badge.svg\" alt=\"Open In Colab\"/></a>"
      ]
    },
    {
      "cell_type": "code",
      "execution_count": 7,
      "metadata": {
        "colab": {
          "base_uri": "https://localhost:8080/"
        },
        "id": "a9QRpg99cguU",
        "outputId": "c78d3083-2abd-41e0-8b8b-0bf889f32e9e"
      },
      "outputs": [
        {
          "output_type": "execute_result",
          "data": {
            "text/plain": [
              "tensor([0.2313, 0.5674, 0.6057, 1.0000, 0.5740, 0.4509, 0.2013, 0.0000, 0.4426,\n",
              "        0.6423, 0.7754])"
            ]
          },
          "metadata": {},
          "execution_count": 7
        }
      ],
      "source": [
        "import torch\n",
        "import torch.optim as optim\n",
        "#In[2]:\n",
        "t_c = [0.5, 14.0, 15.0, 28.0, 11.0, 8.0, 3.0, -4.0, 6.0, 13.0, 21.0]\n",
        "t_u = [35.7, 55.9, 58.2, 81.9, 56.3, 48.9, 33.9, 21.8, 48.4, 60.4, 68.4]\n",
        "\n",
        "t_un = [((float(i)-min(t_u))/(max(t_u)-min(t_u))) for i in t_u]\n",
        "\n",
        "t_c = torch.tensor(t_c)\n",
        "t_u = torch.tensor(t_u)\n",
        "t_un = torch.tensor(t_un)\n",
        "#t_un = 0.01 * t_u\n",
        "t_un"
      ]
    },
    {
      "cell_type": "code",
      "source": [
        "def model(t_u, w2, w1, b):\n",
        "  return w2*t_u**2 + w1*t_u + b\n",
        "#def model(t_u, w, b):\n",
        "#  return w*t_u + b"
      ],
      "metadata": {
        "id": "r7JvOZ4Jc3hA"
      },
      "execution_count": 8,
      "outputs": []
    },
    {
      "cell_type": "code",
      "source": [
        "def loss_fn(t_p, t_c):\n",
        "  squared_diffs = (t_p - t_c)**2\n",
        "  return squared_diffs.mean()"
      ],
      "metadata": {
        "id": "qjQUT0xsdBaA"
      },
      "execution_count": 9,
      "outputs": []
    },
    {
      "cell_type": "code",
      "source": [
        "def training_loop(n_epochs, optimizer, params, t_u, t_c):\n",
        "  for epoch in range(1, n_epochs+1):\n",
        "    t_p = model(t_u, *params)\n",
        "    loss = loss_fn(t_p, t_c)\n",
        "\n",
        "    optimizer.zero_grad()\n",
        "    loss.backward()\n",
        "    optimizer.step()\n",
        "\n",
        "    if epoch%500 == 0:\n",
        "      print('Epoch %d, Loss %f' % (epoch, float(loss)))\n",
        "\n",
        "  return params"
      ],
      "metadata": {
        "id": "CwAf9wJ314y2"
      },
      "execution_count": 10,
      "outputs": []
    },
    {
      "cell_type": "code",
      "source": [
        "params = torch.tensor([1.0, 1.0, 0.0], requires_grad=True)\n",
        "optimizer = optim.SGD([params], lr = 0.1)\n",
        "\n",
        "training_loop(\n",
        "    n_epochs=5000,\n",
        "    optimizer=optimizer,\n",
        "    params=params,\n",
        "    t_u=t_un,\n",
        "    t_c=t_c\n",
        ")"
      ],
      "metadata": {
        "colab": {
          "base_uri": "https://localhost:8080/"
        },
        "id": "3MqWrwe_dCDn",
        "outputId": "bac6c8ac-5689-4d0b-b4e7-7b778021e154"
      },
      "execution_count": 11,
      "outputs": [
        {
          "output_type": "stream",
          "name": "stdout",
          "text": [
            "Epoch 500, Loss 2.248228\n",
            "Epoch 1000, Loss 2.162626\n",
            "Epoch 1500, Loss 2.123548\n",
            "Epoch 2000, Loss 2.105707\n",
            "Epoch 2500, Loss 2.097563\n",
            "Epoch 3000, Loss 2.093844\n",
            "Epoch 3500, Loss 2.092146\n",
            "Epoch 4000, Loss 2.091372\n",
            "Epoch 4500, Loss 2.091018\n",
            "Epoch 5000, Loss 2.090856\n"
          ]
        },
        {
          "output_type": "execute_result",
          "data": {
            "text/plain": [
              "tensor([10.3515, 22.1651, -3.8814], requires_grad=True)"
            ]
          },
          "metadata": {},
          "execution_count": 11
        }
      ]
    },
    {
      "cell_type": "code",
      "source": [
        "import matplotlib.pyplot as plt\n",
        "import numpy as np\n",
        "%matplotlib inline\n",
        "\n",
        "plt.scatter(t_un, t_c)\n",
        "x = np.linspace(-1, 1, 1000)\n",
        "y = y = params.detach().numpy()[0]*x**2 + params.detach().numpy()[1]*x + params.detach().numpy()[2]\n",
        "plt.xlabel('Measurement')\n",
        "plt.ylabel('Temp')\n",
        "plt.plot(x,y, color = 'red')"
      ],
      "metadata": {
        "colab": {
          "base_uri": "https://localhost:8080/",
          "height": 466
        },
        "id": "AhP9EQCZXmnZ",
        "outputId": "f03bcf02-9f68-48b4-fc4c-a1993a4c46d2"
      },
      "execution_count": 12,
      "outputs": [
        {
          "output_type": "execute_result",
          "data": {
            "text/plain": [
              "[<matplotlib.lines.Line2D at 0x7ae827659390>]"
            ]
          },
          "metadata": {},
          "execution_count": 12
        },
        {
          "output_type": "display_data",
          "data": {
            "text/plain": [
              "<Figure size 640x480 with 1 Axes>"
            ],
            "image/png": "[encoded data removed]"
          },
          "metadata": {}
        }
      ]
    }
  ]
}